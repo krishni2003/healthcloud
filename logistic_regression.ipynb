{
 "cells": [
  {
   "cell_type": "code",
   "execution_count": 8,
   "id": "e25e12b3-ddd6-47db-8039-b9890faf9b8f",
   "metadata": {},
   "outputs": [
    {
     "name": "stdout",
     "output_type": "stream",
     "text": [
      "Accuracy for Logistic Regression: 84.211 %\n"
     ]
    }
   ],
   "source": [
    "import pandas as pd\n",
    "import numpy as np\n",
    "from sklearn.model_selection import train_test_split\n",
    "from sklearn.linear_model import LogisticRegression\n",
    "from sklearn.metrics import accuracy_score\n",
    "from sklearn.preprocessing import StandardScaler\n",
    "import warnings\n",
    "import pickle\n",
    "\n",
    "warnings.filterwarnings(\"ignore\")\n",
    "\n",
    "# Load data from CSV\n",
    "data = pd.read_csv('heart_data.csv')\n",
    "\n",
    "# Separating features (X) and target variable (y)\n",
    "X = data.drop(columns=['target']).values\n",
    "y = data['target'].values\n",
    "\n",
    "# Scaling features\n",
    "# scaler = StandardScaler()\n",
    "# X_scaled = scaler.fit_transform(X)\n",
    "\n",
    "# Splitting data into training and testing sets\n",
    "X_train, X_test, y_train, y_test = train_test_split(X, y, test_size=0.2, random_state=0)\n",
    "\n",
    "# Training Logistic Regression model\n",
    "logistic_model = LogisticRegression()\n",
    "logistic_model.fit(X_train, y_train)\n",
    "\n",
    "# Predictions \n",
    "y_pred_logistic = logistic_model.predict(X_test)\n",
    "\n",
    "# Accuracy calculation\n",
    "accuracy_logistic = round(accuracy_score(y_test, y_pred_logistic) * 100, 3)\n",
    "print(\"Accuracy for Logistic Regression:\", accuracy_logistic, \"%\")\n",
    "\n",
    "# Save the trained model as a pickle file\n",
    "pickle.dump(logistic_model, open('model.pkl', 'wb'))\n",
    "\n",
    "# Load the saved model\n",
    "model = pickle.load(open('model.pkl', 'rb'))\n",
    "\n",
    "# Make predictions on new data\n",
    "# new_data = [(63,1,1,145,233,1,2,150,0,2.3,3,0,6),\n",
    "#            (37,1,3,130,250,0,0,187,0,3.5,3,0,3),\n",
    "#            (67,1,4,160,286,0,2,108,1,1.5,2,3,3)]\n",
    "# predictions = model.predict(new_data)\n",
    "# print(predictions)"
   ]
  },
  {
   "cell_type": "code",
   "execution_count": null,
   "id": "cc56c601-7107-4ae6-bcb2-ba008abf5414",
   "metadata": {},
   "outputs": [],
   "source": []
  },
  {
   "cell_type": "code",
   "execution_count": null,
   "id": "3301b655-db48-4ae1-be51-f8a6bf2ad0fb",
   "metadata": {},
   "outputs": [],
   "source": []
  }
 ],
 "metadata": {
  "kernelspec": {
   "display_name": "Python 3 (ipykernel)",
   "language": "python",
   "name": "python3"
  },
  "language_info": {
   "codemirror_mode": {
    "name": "ipython",
    "version": 3
   },
   "file_extension": ".py",
   "mimetype": "text/x-python",
   "name": "python",
   "nbconvert_exporter": "python",
   "pygments_lexer": "ipython3",
   "version": "3.12.0"
  }
 },
 "nbformat": 4,
 "nbformat_minor": 5
}
